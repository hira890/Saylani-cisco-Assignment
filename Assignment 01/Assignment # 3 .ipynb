{
 "cells": [
  {
   "cell_type": "code",
   "execution_count": 2,
   "metadata": {},
   "outputs": [
    {
     "name": "stdout",
     "output_type": "stream",
     "text": [
      "Please select operation -\n",
      "1. Add\n",
      "2. Subtract\n",
      "3. Multiply\n",
      "4. Divide\n",
      "5. Power\n",
      "\n",
      "Select operation 1, 2, 3, 4, 5:5\n",
      "Enter first number: 2\n",
      "Enter second number: 3\n",
      "2 ** 3 = 8\n"
     ]
    }
   ],
   "source": [
    "def add(num1, num2): \n",
    "    return num1 + num2 \n",
    "  \n",
    "def subtract(num1, num2): \n",
    "    return num1 - num2 \n",
    "   \n",
    "def multiply(num1, num2): \n",
    "    return num1 * num2 \n",
    "  \n",
    "def divide(num1, num2): \n",
    "    return num1 / num2 \n",
    "\n",
    "def power(num1, num2): \n",
    "    return num1 ** num2 \n",
    "  \n",
    "print(\"Please select operation -\\n\"  \n",
    "        \"1. Add\\n\" \n",
    "        \"2. Subtract\\n\"  \n",
    "        \"3. Multiply\\n\" \n",
    "        \"4. Divide\\n\" \n",
    "        \"5. Power\\n\") \n",
    "  \n",
    "  \n",
    "select = input(\"Select operation 1, 2, 3, 4, 5:\") \n",
    "  \n",
    "number_1 = int(input(\"Enter first number: \")) \n",
    "number_2 = int(input(\"Enter second number: \")) \n",
    "  \n",
    "if select == '1': \n",
    "    print(number_1, \"+\", number_2, \"=\", \n",
    "                    add(number_1, number_2)) \n",
    "  \n",
    "elif select == '2': \n",
    "    print(number_1, \"-\", number_2, \"=\", \n",
    "                    subtract(number_1, number_2)) \n",
    "  \n",
    "elif select == '3': \n",
    "    print(number_1, \"*\", number_2, \"=\", \n",
    "                    multiply(number_1, number_2)) \n",
    "  \n",
    "elif select == '4': \n",
    "    print(number_1, \"/\", number_2, \"=\", \n",
    "                    divide(number_1, number_2)) \n",
    "\n",
    "elif select == '5': \n",
    "    print(number_1, \"**\", number_2, \"=\", \n",
    "                    power(number_1, number_2)) \n",
    "else: \n",
    "    print(\"Invalid input\")"
   ]
  },
  {
   "cell_type": "code",
   "execution_count": 16,
   "metadata": {},
   "outputs": [
    {
     "name": "stdout",
     "output_type": "stream",
     "text": [
      "The numerical elements in the list are:  11\n",
      "The numerical elements in the list are:  -21\n",
      "The numerical elements in the list are:  0\n",
      "The numerical elements in the list are:  45\n",
      "The numerical elements in the list are:  98.9\n",
      "The numerical elements in the list are:  66\n",
      "The numerical elements in the list are:  -93\n"
     ]
    }
   ],
   "source": [
    "list1 = [11, -21, \"ddd\", 0, 45, \"ftt\", 98.9, 66, -93, \"name\"] \n",
    "for x in list1: \n",
    "    if isinstance(x, int) or isinstance(x, float): \n",
    "        print(\"The numerical elements in the list are: \", x)\n",
    "    \n"
   ]
  },
  {
   "cell_type": "code",
   "execution_count": 12,
   "metadata": {},
   "outputs": [
    {
     "name": "stdout",
     "output_type": "stream",
     "text": [
      "{0: 'Hello', 1: 'Hi'}\n",
      "{0: 'Hello', 1: 'Hi', 2: 'Good Morning'}\n"
     ]
    }
   ],
   "source": [
    "dic = {0:\"Hello\", 1:\"Hi\"}\n",
    "print(dic)\n",
    "dic.update({2:\"Good Morning\"})\n",
    "print(dic)"
   ]
  },
  {
   "cell_type": "code",
   "execution_count": 19,
   "metadata": {},
   "outputs": [
    {
     "name": "stdout",
     "output_type": "stream",
     "text": [
      "The sum of all the numerical elements in the list is:  5660\n"
     ]
    }
   ],
   "source": [
    "dic = {0:100, 1:\"jhfk\", 2:-54, 3:247, 4:\"hi\", 5:5367} \n",
    "sum = 0 \n",
    "for x in dic.values(): \n",
    "    if isinstance(x, int) or isinstance(x, float): \n",
    "        sum = sum + x \n",
    "\n",
    "print(\"The sum of all the numerical elements in the list is: \", sum) \n",
    "       "
   ]
  },
  {
   "cell_type": "code",
   "execution_count": 22,
   "metadata": {},
   "outputs": [
    {
     "name": "stdout",
     "output_type": "stream",
     "text": [
      "[1, 5, 6, 7, 8, 0]\n"
     ]
    }
   ],
   "source": [
    "def Duplicate(x): \n",
    "    size = len(x) \n",
    "    dupelements = [] \n",
    "    for i in range(size): \n",
    "        k = i + 1\n",
    "        for j in range(k, size): \n",
    "            if x[i] == x[j] and x[i] not in dupelements: \n",
    "                dupelements.append(x[i]) \n",
    "    return dupelements \n",
    "list1 = [1,2,3,4,5,5,6,7,8,8,9,0,0,1,5,6,7]\n",
    "print (Duplicate(list1)) \n"
   ]
  },
  {
   "cell_type": "code",
   "execution_count": 32,
   "metadata": {},
   "outputs": [
    {
     "name": "stdout",
     "output_type": "stream",
     "text": [
      "Enter the key you want to check: 3\n",
      "Key is already present in the dictionary.\n"
     ]
    }
   ],
   "source": [
    "dic = {1: 0, 2: 1, 3: 2, 4: 3, 5: 4, 6: 5}\n",
    "key = int(input(\"Enter the key you want to check: \")) \n",
    "if key in dic: \n",
    "    print(\"Key is already present in the dictionary.\")  \n",
    "else: \n",
    "    print(\"Key is not present in the dictionary.\") "
   ]
  },
  {
   "cell_type": "code",
   "execution_count": null,
   "metadata": {},
   "outputs": [],
   "source": []
  }
 ],
 "metadata": {
  "kernelspec": {
   "display_name": "Python 3",
   "language": "python",
   "name": "python3"
  },
  "language_info": {
   "codemirror_mode": {
    "name": "ipython",
    "version": 3
   },
   "file_extension": ".py",
   "mimetype": "text/x-python",
   "name": "python",
   "nbconvert_exporter": "python",
   "pygments_lexer": "ipython3",
   "version": "3.7.1"
  }
 },
 "nbformat": 4,
 "nbformat_minor": 2
}
